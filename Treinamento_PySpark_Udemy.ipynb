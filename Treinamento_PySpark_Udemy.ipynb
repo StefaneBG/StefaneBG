{
  "nbformat": 4,
  "nbformat_minor": 0,
  "metadata": {
    "colab": {
      "provenance": [],
      "collapsed_sections": [
        "8OvDIIYan7AC",
        "Ws3u92N9uveT"
      ],
      "mount_file_id": "1bkmjxqoDf4yYBJ6vEpZl3vQvg_gpQS6L",
      "authorship_tag": "ABX9TyNuqD+jJ5zUSqijbwEl433R",
      "include_colab_link": true
    },
    "kernelspec": {
      "name": "python3",
      "display_name": "Python 3"
    },
    "language_info": {
      "name": "python"
    }
  },
  "cells": [
    {
      "cell_type": "markdown",
      "metadata": {
        "id": "view-in-github",
        "colab_type": "text"
      },
      "source": [
        "<a href=\"https://colab.research.google.com/github/StefaneBG/StefaneBG/blob/main/Treinamento_PySpark_Udemy.ipynb\" target=\"_parent\"><img src=\"https://colab.research.google.com/assets/colab-badge.svg\" alt=\"Open In Colab\"/></a>"
      ]
    },
    {
      "cell_type": "markdown",
      "source": [
        "# Utilizando o Spark no Google Colab de forma 'manual'\n",
        "\n",
        "\n",
        "\n"
      ],
      "metadata": {
        "id": "8OvDIIYan7AC"
      }
    },
    {
      "cell_type": "markdown",
      "source": [
        "\n",
        "\n",
        "\n",
        "Spark version 3.5.2\n",
        "\n",
        "---\n",
        "\n",
        "Using Scala version 2.13\n",
        "\n",
        "---\n",
        "\n",
        "Java HotSpot(TM) 64-Bit Server VM, Java 11.0.23\n",
        "\n",
        "---\n",
        "3.10.12\n",
        "\n",
        "---"
      ],
      "metadata": {
        "id": "3llNfXSt3WQP"
      }
    },
    {
      "cell_type": "markdown",
      "source": [],
      "metadata": {
        "id": "zBd053Xp3ZnG"
      }
    },
    {
      "cell_type": "code",
      "source": [
        "# instalar as dependências\n",
        "!apt-get update -qq\n",
        "!apt-get install openjdk-8-jdk-headless -qq > /dev/null\n",
        "!wget -q https://archive.apache.org/dist/spark/spark-3.5.2/spark-3.5.2-bin-hadoop3-scala2.13.tgz\n",
        "!tar xf spark-3.5.2-bin-hadoop3-scala2.13.tgz\n",
        "!pip install -q findspark"
      ],
      "metadata": {
        "colab": {
          "base_uri": "https://localhost:8080/"
        },
        "id": "QRoiP7Iw4Yk7",
        "outputId": "e2996f54-2a10-43ac-d135-fa9e82f81bae"
      },
      "execution_count": null,
      "outputs": [
        {
          "output_type": "stream",
          "name": "stdout",
          "text": [
            "W: Skipping acquire of configured file 'main/source/Sources' as repository 'https://r2u.stat.illinois.edu/ubuntu jammy InRelease' does not seem to provide it (sources.list entry misspelt?)\n"
          ]
        }
      ]
    },
    {
      "cell_type": "code",
      "source": [
        "import os\n",
        "os.environ[\"JAVA_HOME\"] = \"/usr/lib/jvm/java-8-openjdk-amd64\"\n",
        "os.environ[\"SPARK_HOME\"] = \"/content/spark-3.5.2-bin-hadoop3-scala2.13\"\n"
      ],
      "metadata": {
        "id": "0qJWdjdpn0I7"
      },
      "execution_count": null,
      "outputs": []
    },
    {
      "cell_type": "code",
      "source": [
        "import findspark\n",
        "findspark.init()"
      ],
      "metadata": {
        "id": "4m2pSM3BntBp"
      },
      "execution_count": null,
      "outputs": []
    },
    {
      "cell_type": "markdown",
      "source": [
        "# Instalando pyspark automaticamente e Importando o SparkContext\n"
      ],
      "metadata": {
        "id": "Ws3u92N9uveT"
      }
    },
    {
      "cell_type": "markdown",
      "source": [],
      "metadata": {
        "id": "FheDP-kTuvch"
      }
    },
    {
      "cell_type": "code",
      "source": [
        "!pip install pyspark"
      ],
      "metadata": {
        "id": "zbSZ2osggKG6",
        "outputId": "cb16b930-21d5-4618-8fbb-b3de61abe5b1",
        "colab": {
          "base_uri": "https://localhost:8080/"
        }
      },
      "execution_count": null,
      "outputs": [
        {
          "output_type": "stream",
          "name": "stdout",
          "text": [
            "Requirement already satisfied: pyspark in /usr/local/lib/python3.10/dist-packages (3.5.2)\n",
            "Requirement already satisfied: py4j==0.10.9.7 in /usr/local/lib/python3.10/dist-packages (from pyspark) (0.10.9.7)\n"
          ]
        }
      ]
    },
    {
      "cell_type": "code",
      "source": [
        "from pyspark import SparkContext"
      ],
      "metadata": {
        "id": "j1h8XfQsrfe0"
      },
      "execution_count": null,
      "outputs": []
    },
    {
      "cell_type": "code",
      "source": [
        "sc = SparkContext()"
      ],
      "metadata": {
        "id": "8DbP4ZuMrmtp"
      },
      "execution_count": null,
      "outputs": []
    },
    {
      "cell_type": "code",
      "source": [
        "print(sc.version)"
      ],
      "metadata": {
        "colab": {
          "base_uri": "https://localhost:8080/"
        },
        "id": "eOs4_nfaxiIe",
        "outputId": "cff068d7-9fda-4483-8b29-768c531549dc"
      },
      "execution_count": null,
      "outputs": [
        {
          "output_type": "stream",
          "name": "stdout",
          "text": [
            "3.5.2\n"
          ]
        }
      ]
    },
    {
      "cell_type": "code",
      "source": [
        "import findspark\n",
        "findspark.init()"
      ],
      "metadata": {
        "id": "Xb6xpt-iyVXq"
      },
      "execution_count": null,
      "outputs": []
    },
    {
      "cell_type": "markdown",
      "source": [
        "##IMPORTANDO DADOS DO DRIVE"
      ],
      "metadata": {
        "id": "yPazjsnjoa34"
      }
    },
    {
      "cell_type": "code",
      "execution_count": null,
      "metadata": {
        "colab": {
          "base_uri": "https://localhost:8080/"
        },
        "id": "6g2I8wYShfYJ",
        "outputId": "790ecf58-f761-4f9a-f73a-4355b11d0d6a"
      },
      "outputs": [
        {
          "output_type": "stream",
          "name": "stdout",
          "text": [
            "Drive already mounted at /content/drive; to attempt to forcibly remount, call drive.mount(\"/content/drive\", force_remount=True).\n"
          ]
        }
      ],
      "source": [
        "from google.colab import drive\n",
        "drive.mount('/content/drive')"
      ]
    },
    {
      "cell_type": "markdown",
      "source": [
        "# TREINAMENTO\n",
        "\n",
        "\n"
      ],
      "metadata": {
        "id": "YATbHcjKpzG_"
      }
    },
    {
      "cell_type": "markdown",
      "source": [
        "##SCRIPT-1"
      ],
      "metadata": {
        "id": "CzcfKygJFPkH"
      }
    },
    {
      "cell_type": "code",
      "source": [
        "#versão do python\n",
        "import sys\n",
        "print(sys.version)"
      ],
      "metadata": {
        "colab": {
          "base_uri": "https://localhost:8080/"
        },
        "id": "3bNvWSudqGe-",
        "outputId": "2f9d0eb3-1000-4fd6-e627-8887a84a13f3"
      },
      "execution_count": null,
      "outputs": [
        {
          "output_type": "stream",
          "name": "stdout",
          "text": [
            "3.10.12 (main, Jul 29 2024, 16:56:48) [GCC 11.4.0]\n"
          ]
        }
      ]
    },
    {
      "cell_type": "code",
      "source": [
        "#Criando um RDD com 6 elemntos, seria a transformação de ma lista em puthon para um RDD paralelizado\n",
        "paises = [\"Brasil\",\"Italia\",\"Russia\",\"Noruega\",\"Espanha\",\"Mexico\"]\n",
        "dadosrdd = sc.parallelize(paises)"
      ],
      "metadata": {
        "id": "ZyqFNm4mqEz6"
      },
      "execution_count": null,
      "outputs": []
    },
    {
      "cell_type": "code",
      "source": [
        "#conta a quantidade de elementos presentes no RDD sobre paises\n",
        "dadosrdd.count()"
      ],
      "metadata": {
        "colab": {
          "base_uri": "https://localhost:8080/"
        },
        "id": "LWXV2yQar7OV",
        "outputId": "9a4b593c-57d2-427a-9e81-2c68617b9cb1"
      },
      "execution_count": null,
      "outputs": [
        {
          "output_type": "execute_result",
          "data": {
            "text/plain": [
              "6"
            ]
          },
          "metadata": {},
          "execution_count": 9
        }
      ]
    },
    {
      "cell_type": "code",
      "source": [
        "\n",
        "# Exibindio a quantidade de particoes\n",
        "dadosrdd2 = sc.parallelize(paises)\n",
        "print(\"Particoes: \"+str(dadosrdd2.getNumPartitions()))"
      ],
      "metadata": {
        "colab": {
          "base_uri": "https://localhost:8080/"
        },
        "id": "4vemSUpnpZrK",
        "outputId": "53bc74d5-7fe9-4bd2-cf89-c624a387baa6"
      },
      "execution_count": null,
      "outputs": [
        {
          "output_type": "stream",
          "name": "stdout",
          "text": [
            "Particoes: 2\n"
          ]
        }
      ]
    },
    {
      "cell_type": "code",
      "source": [
        "# Forçando a quantidade de particoes em 5\n",
        "dadosrdd3 = sc.parallelize(paises, 5)\n",
        "print(\"Particoes Paralelas: \"+str(dadosrdd3.getNumPartitions()))"
      ],
      "metadata": {
        "colab": {
          "base_uri": "https://localhost:8080/"
        },
        "id": "010O2XlBwQSU",
        "outputId": "a8d6bf09-db8a-4a43-b158-81630717d78d"
      },
      "execution_count": null,
      "outputs": [
        {
          "output_type": "stream",
          "name": "stdout",
          "text": [
            "Particoes Paralelas: 5\n"
          ]
        }
      ]
    },
    {
      "cell_type": "markdown",
      "source": [],
      "metadata": {
        "id": "PqpxN_ZrpaQV"
      }
    },
    {
      "cell_type": "code",
      "source": [
        "food=sc.textFile(\"/content/drive/MyDrive/treinamento/Dados/food_coded.csv\")"
      ],
      "metadata": {
        "id": "ic2ykYHoze50"
      },
      "execution_count": null,
      "outputs": []
    },
    {
      "cell_type": "code",
      "source": [
        "food.take(5)"
      ],
      "metadata": {
        "colab": {
          "base_uri": "https://localhost:8080/"
        },
        "id": "-rctKYCo0bWr",
        "outputId": "90ca0744-9183-4fe6-94ec-1785ea0c3161"
      },
      "execution_count": null,
      "outputs": [
        {
          "output_type": "execute_result",
          "data": {
            "text/plain": [
              "['GPA,Gender,breakfast,calories_chicken,calories_day,calories_scone,coffee,comfort_food,comfort_food_reasons,comfort_food_reasons_coded,cook,comfort_food_reasons_coded,cuisine,diet_current,diet_current_coded,drink,eating_changes,eating_changes_coded,eating_changes_coded1,eating_out,employment,ethnic_food,exercise,father_education,father_profession,fav_cuisine,fav_cuisine_coded,fav_food,food_childhood,fries,fruit_day,grade_level,greek_food,healthy_feeling,healthy_meal,ideal_diet,ideal_diet_coded,income,indian_food,italian_food,life_rewarding,marital_status,meals_dinner_friend,mother_education,mother_profession,nutritional_check,on_off_campus,parents_cook,pay_meal_out,persian_food,self_perception_weight,soup,sports,thai_food,tortilla_calories,turkey_calories,type_sports,veggies_day,vitamins,waffle_calories,weight',\n",
              " '2.4,2,1,430,nan,315,1,none,we dont have comfort ,9,2,9,nan,eat good and exercise,1,1,eat faster ,1,1,3,3,1,1,5,profesor ,Arabic cuisine,3,1,rice  and chicken ,2,5,2,5,2,looks not oily ,being healthy ,8,5,5,5,1,1,\"rice, chicken,  soup\",1,unemployed,5,1,1,2,5,3,1,1,1,1165,345,car racing,5,1,1315,187',\n",
              " '3.654,1,1,610,3,420,2,\"chocolate, chips, ice cream\",\"Stress, bored, anger\",1,3,1,1,I eat about three times a day with some snacks. I try to eat healthy but it doesn\\'t always work out that- sometimes eat fast food and mainly eat at Laker/ Egan ,2,2,I eat out more than usual. ,1,2,2,2,4,1,2,Self employed ,Italian,1,1,\"chicken and biscuits, beef soup, baked beans\",1,4,4,4,5,\"Grains, Veggies, (more of grains and veggies), small protein and fruit with dairy \",\"Try to eat 5-6 small meals a day. While trying to properly distribute carbs, protein, fruits, veggies, and dairy.  \",3,4,4,4,1,2,\"Pasta, steak, chicken \",4,Nurse RN ,4,1,1,4,4,3,1,1,2,725,690,Basketball ,4,2,900,155',\n",
              " '3.3,1,1,720,4,420,2,\"frozen yogurt, pizza, fast food\",\"stress, sadness\",1,1,1,3,\"toast and fruit for breakfast, salad for lunch, usually grilled chicken and veggies (or some variation) for dinner\",3,1,sometimes choosing to eat fast food instead of cooking simply for convenience,1,3,2,3,5,2,2,owns business,italian,1,3,\"mac and cheese, pizza, tacos\",1,5,3,5,6,usually includes natural ingredients; nonprocessed food,i would say my ideal diet is my current diet,6,6,5,5,7,2,\"chicken and rice with veggies, pasta, some kind of healthy recipe\",2,owns business,4,2,1,3,5,6,1,2,5,1165,500,none,5,1,900,I\\'m not answering this. ',\n",
              " '3.2,1,1,430,3,420,2,\"Pizza, Mac and cheese, ice cream\",Boredom,2,2,2,2,\"College diet, cheap and easy foods most nights. Weekends traditionally, cook better homemade meals  \",2,2,Accepting cheap and premade/store bought foods,1,3,2,3,5,3,2,Mechanic ,Turkish ,3,1,\"Beef stroganoff, tacos, pizza\",2,4,4,5,7,\"Fresh fruits& vegetables, organic meats \",\"Healthy, fresh veggies/fruits & organic foods \",2,6,5,5,2,2,\"Grilled chicken ']"
            ]
          },
          "metadata": {},
          "execution_count": 18
        }
      ]
    },
    {
      "cell_type": "code",
      "source": [
        "#Salvando os dados na pasta, extraindo dados do RDD para um arquivo\n",
        "GuardaRDD = open(\"/content/drive/MyDrive/treinamento/dadosTransformer/food.txt\",\"w\")\n",
        "GuardaRDD.write(\"\\n\".join(food.take(5)))\n",
        "GuardaRDD.close()"
      ],
      "metadata": {
        "id": "e4pLwngB02O1"
      },
      "execution_count": null,
      "outputs": []
    },
    {
      "cell_type": "code",
      "source": [
        "#Exibindo o primeiro dado dentro do RDD\n",
        "food.first()"
      ],
      "metadata": {
        "colab": {
          "base_uri": "https://localhost:8080/",
          "height": 157
        },
        "id": "QN2kCjZa22eV",
        "outputId": "f288be68-91b4-427b-e6a6-efa7d12eef3d"
      },
      "execution_count": null,
      "outputs": [
        {
          "output_type": "execute_result",
          "data": {
            "text/plain": [
              "'GPA,Gender,breakfast,calories_chicken,calories_day,calories_scone,coffee,comfort_food,comfort_food_reasons,comfort_food_reasons_coded,cook,comfort_food_reasons_coded,cuisine,diet_current,diet_current_coded,drink,eating_changes,eating_changes_coded,eating_changes_coded1,eating_out,employment,ethnic_food,exercise,father_education,father_profession,fav_cuisine,fav_cuisine_coded,fav_food,food_childhood,fries,fruit_day,grade_level,greek_food,healthy_feeling,healthy_meal,ideal_diet,ideal_diet_coded,income,indian_food,italian_food,life_rewarding,marital_status,meals_dinner_friend,mother_education,mother_profession,nutritional_check,on_off_campus,parents_cook,pay_meal_out,persian_food,self_perception_weight,soup,sports,thai_food,tortilla_calories,turkey_calories,type_sports,veggies_day,vitamins,waffle_calories,weight'"
            ],
            "application/vnd.google.colaboratory.intrinsic+json": {
              "type": "string"
            }
          },
          "metadata": {},
          "execution_count": 21
        }
      ]
    },
    {
      "cell_type": "code",
      "source": [
        "#Determinando a quantidade elementos, subtraindo de -1 para retirar o cabecalho\n",
        "food.count()-1"
      ],
      "metadata": {
        "colab": {
          "base_uri": "https://localhost:8080/"
        },
        "id": "rDemp_BF29sd",
        "outputId": "23a029c6-3402-4ac6-b6c5-d9cd73dc6e57"
      },
      "execution_count": null,
      "outputs": [
        {
          "output_type": "execute_result",
          "data": {
            "text/plain": [
              "138"
            ]
          },
          "metadata": {},
          "execution_count": 22
        }
      ]
    },
    {
      "cell_type": "code",
      "source": [
        "#Pesquisa uma palavra dentro o grupo de dados\n",
        "filtro_palavra = food.filter(lambda x: 'rice' in x)\n",
        "filtro_palavra.collect()"
      ],
      "metadata": {
        "colab": {
          "base_uri": "https://localhost:8080/"
        },
        "collapsed": true,
        "id": "_vPfS0PU2_0G",
        "outputId": "21bac614-9a54-4864-edd4-fb67fb00845a"
      },
      "execution_count": null,
      "outputs": [
        {
          "output_type": "execute_result",
          "data": {
            "text/plain": [
              "['2.4,2,1,430,nan,315,1,none,we dont have comfort ,9,2,9,nan,eat good and exercise,1,1,eat faster ,1,1,3,3,1,1,5,profesor ,Arabic cuisine,3,1,rice  and chicken ,2,5,2,5,2,looks not oily ,being healthy ,8,5,5,5,1,1,\"rice, chicken,  soup\",1,unemployed,5,1,1,2,5,3,1,1,1,1165,345,car racing,5,1,1315,187',\n",
              " '3.3,1,1,720,4,420,2,\"frozen yogurt, pizza, fast food\",\"stress, sadness\",1,1,1,3,\"toast and fruit for breakfast, salad for lunch, usually grilled chicken and veggies (or some variation) for dinner\",3,1,sometimes choosing to eat fast food instead of cooking simply for convenience,1,3,2,3,5,2,2,owns business,italian,1,3,\"mac and cheese, pizza, tacos\",1,5,3,5,6,usually includes natural ingredients; nonprocessed food,i would say my ideal diet is my current diet,6,6,5,5,7,2,\"chicken and rice with veggies, pasta, some kind of healthy recipe\",2,owns business,4,2,1,3,5,6,1,2,5,1165,500,none,5,1,900,I\\'m not answering this. ',\n",
              " '3.5,1,1,720,2,420,2,\"Ice cream, chocolate, chips \",\"Stress, boredom, cravings \",1,1,1,2,I try to eat healthy but often struggle because of living on campus. I still try to keep the choices I do make balanced with fruits and vegetables and limit the sweats. ,2,2,I have eaten generally the same foods but I do find myself eating the same food frequently due to what I have found I like from egan and the laker. ,3,4,2,2,4,1,4,IT,Italian ,1,3,\"Pasta, chicken tender, pizza \",1,4,4,4,6,\"A lean protein such as grilled chicken, green vegetables and  brown rice or other whole grain \",Ideally I would like to be able to eat healthier foods in order to loose weight. ,2,6,2,5,1,1,\"Chicken Parmesan, Pulled Pork, Spaghetti and meatballs \",5,Substance Abuse Conselor,3,1,1,4,2,4,1,1,4,940,500,Softball,4,2,760,190',\n",
              " '2.25,1,1,610,3,980,2,\"Candy, brownies and soda.\",\"None, i don\\'t eat comfort food. I just eat when i\\'m hungry.\",4,3,4,nan,My current diet is terrible. I barely have time to eat a meal in a day. When i do eat it\\'s mostly not healthy.,2,2,Eating rice everyday. Eating less homemade food.,1,3,1,3,4,2,1,Taxi Driver,African,6,3,\"Fries, plaintain & fried fish\",1,2,2,2,4,\"Requires veggies, fruits and a cooked meal. \",My ideal diet is to eat 3 times a day including breakfast on time. Eat healthy food. ,2,1,5,5,4,2,Anything they\\'d want. I\\'d ask them before hand what they want to eat and it depends on which type of friend is coming.,1,Hair Braider,1,1,2,5,5,5,1,2,4,940,345,None.,1,2,1315,190',\n",
              " '3.3,1,1,430,3,315,2,\"Mac and cheese, chocolate, and pasta \",\"Stress, anger and sadness \",1,3,1,1,\"I eat healthy all the time when possible. I treat myself occasionally. I don\\'t really like the greasy meals, if anything I would eat sweets over the greasy meals.  \",1,1,I cook a lot of my own foods back at home so not being able to cook my own healthy choices. I eat more carbs than normal when I\\'m at college due to the choices given in the cafe. ,1,3,3,3,5,1,5,commissioner of erie county ,Italian ,1,1,\"Pasta, Eggs, Pancakes \",1,5,1,5,3,Chicken and rice with a side of veggies. ,\"Lots of protein, carbs, and fruits and veggies. \",2,4,4,5,3,2,pasta salad and bread,5,Pharmaceutical rep,5,1,3,3,4,3,1,1,4,580,345,field hockey,5,1,900,125',\n",
              " '3.6,1,1,610,3,420,2,\"ice cream, cake, chocolate\",\"stress,  boredom, special occasions\",1,2,1,1,Not as healthy when I am at school compared to home. Still very aware of the nutrition I am taking in.,2,2,not as healthy because healthy food goes bad quickly and it is expensive,1,3,4,2,5,2,2,business owner,italian,1,1,\"steak, lasagna, crab\",1,5,3,4,8,Lots of vegetabls with some grains like rice. Also has lean meat such as fish or chicken.,organic/healthy. fruits and vegetables but still protein to give sustainance. ,2,5,3,5,10,2,\"pasta, chicken, steak\",4,business owner,2,2,2,3,3,3,1,1,5,1165,850,intramural volleyball,5,2,1315,123',\n",
              " '3.1,2,1,610,3,420,2,\"Pizza, fruit, spaghetti, chicken and Potatoes  \",\"Friends, environment and boredom\",2,3,2,1,\"Making sure I have enough protein intake, as well with fibre, vitamins and carbs. \",1,2,\"I knew I would eat alot my freshmen year, before coming to college i had a diet plan. \",3,4,2,3,4,2,4,Commidity trader ,Chinese ,4,3,Pizza,1,5,3,4,2,Green and not greasy,\"Eat a little less than I usually do, and intaking more protein. \",1,5,2,3,1,1,\"Pizza, chicken and rice, roast beef.\",4,Charity worker,2,2,2,3,1,3,1,1,4,940,500,Hockey,5,1,900,185',\n",
              " 'nan,2,2,430,nan,980,2,\"cookies, donuts, candy bars\",boredom,2,4,2,1,I like a lot of foods that arent home cooked or healthy for you.,2,2,none,3,4,4,3,1,1,5,Hockey Coach,italian food,1,2,pizza,1,3,1,1,6,\"chicken, veggies, rice\",I wish I ate lots of healthy foods like veggies and salads. ,2,4,1,5,nan,2,pizza buffalo chicken pasta,4,Librarian,1,1,2,3,1,2,2,1,1,940,345,Hockey,1,2,1315,180',\n",
              " '3.6,2,1,430,3,980,2,\"chips, cookies, ice cream\",\"I usually only eat comfort food when I\\'m bored, if i am doing something, i can go for hours without eating \",2,3,2,1,My current diet is eggs and a meat every morning for breakfast. For lunch ill usually have some pasta or rice with a meat and sometimes a side of veggies. for dinner i usually eat less carbs and more protein and veggies. ,3,2,\"I would say i just eat a little more, but not in a bad way. I have unlimited swipes at the cafe so instead of snacking on chips before lunch or dinner i will get something from the cafe.\",1,2,2,3,4,1,2,self employed construction ,American or Italian ,5,3,\"chicken fingers, steak, mac and cheese\",1,3,1,3,8,\"for me usually a big piece of chicken or steak with a side of veggies, and i usually have rice with mine as well\",\"I like how my diet it now. However, after my season i am going to cut back on some carbs because i won\\'t be working out as much.\",1,6,3,5,7,2,Grilled chicken or steak with veggies and rice. or some type of pasta and chicken ,2,stay at home mom,4,1,1,6,2,2,1,1,3,940,500,hockey,4,2,900,170',\n",
              " '2.2,2,1,430,2,420,2,\"pizza, wings, Chinese\",\"boredom, sadness, hungry\",2,4,2,1,Current diet right now isn\\'t very good. I eat at the school\\'s cafeteria and they do not have the best choices.,2,2,None really,3,4,2,3,3,2,5,architect,Italian,1,1,manacotti,1,2,1,3,4,\"lots of fruits and vegitibles, not any fried foods\",Something that tastes good and also is good for you. This is very hard to find though.,3,5,2,5,7,1,\"chicken, manicotti, rice\",4,physical therapist,1,1,1,3,3,4,1,nan,3,940,345,basketball,2,2,900,165',\n",
              " '3.9,1,1,720,2,420,2,\"Soup, pasta, brownies, cake\",\"A long day, not feeling well, winter \",6,1,6,1,I eat a lot of chicken and try to cook my own meals as much as possible using a lot of rice and vegetables.,1,2,\"I watch the amount of \"\"snacks\"\" I eat more than I did in high school.\",1,2,4,3,4,nan,3,Manager at Pepsi,Chinese,4,1,Spaghetti ,1,4,3,5,5,A healthy meal is a lean meat with mostly vegetables and a starch like brown rice or quinoa.,I would like to be a person to eat a larger vegetable based diet with little to no processed products in my diet especially sugar and salt.,2,4,3,5,2,2,\"Pasta, chicken and rice, and soup\",2,Unemployed,2,1,1,3,3,4,2,2,4,940,500,none,4,2,1315,105',\n",
              " '3.7,2,1,610,2,420,1,\"Chips, ice cream, microwaveable foods \",\"Boredom, lazyniss \",2,3,2,1,\"Most healthy diet, but since I\\'m an athlete have room for some bad foods to burn off quickly \",1,1,Tend to eat more fried foods ,1,3,2,2,2,1,4,Beverage and Food Sales,Italian food ,1,1,\"Chicken Parm, Pizza \",1,3,2,1,9,\"A rice, a vegetable, a piece of meat \",\"Very healthy diet, and to cook at home with organic foods. \",5,5,1,5,9,2,Chicken parm ,2,Doctors Billing Assiant ,2,1,1,4,1,2,2,1,2,1165,850,Hockey,3,2,1315,160',\n",
              " '3,1,1,610,2,420,2,\"mac n cheese, peanut butter and banana sandwich, omelet\",Boredom usually,2,1,2,1,\"A lot of rice and veggies, eggs for breakfast, chicken is usually the only kind of meat I eat.\",3,1,My diet is more limited just because of what I have time to make,1,3,2,3,2,1,4,Owns his own promotional company ,American or Italian,5,1,\"chicken, pasta, stir fry\",1,5,3,3,2,\"Some kind of protein, a vegetable, and a grain\",Pretty much what I eat now,6,4,1,5,3,2,\"Some kind of pasta, a chicken dish, some kind of salad\",4,Works in retail,2,2,1,3,2,2,1,1,2,940,690,Lacrosse,5,2,760,150',\n",
              " '3.7,1,1,610,3,420,2,\"pizza, doughnuts, mcdonalds \",boredom,2,3,2,nan,\"I eat out more often then not. I try to make sure when I eat out it isn\\'t fast food, but instead something healthy like Panera. \",2,2,I do not snack as often at school. I find that I\\'m always busy so sometimes I don\\'t have a lot of time to eat. ,1,8,4,2,4,1,5,Optometrist ,Italian or Chinese ,1,3,\"pizza, pasta, grilled cheese \",1,5,2,3,7,\"a meal with a meat, vegetable, grain, and fruit \",I wish I had the time and energy to cook more at home on my own. ,5,6,2,5,7,1,\"spaghetti or pasta, shrimp fried rice, chicken \",2,Homemaker ,3,1,2,3,1,4,2,1,2,1165,500,Softball ,5,2,900,150',\n",
              " '3.6,1,1,610,3,420,2,\"ice cream, cookie dough, cookies, cheese\",\"Boredom!, sadness\",2,4,2,1,\"Light breakfast, yogurt or grandola bar. No luch but (healthy) snacks throughout this time period until dinner. Full dinner with meat, vegetables and fruit.\",2,2,I do not make my own food,1,3,2,2,3,nan,4,Design Engineer,Italian,1,1,\"French Toast, Grilled Cheese, Orange Chicken\",1,5,2,5,6,\"Grilled chicken, side salad, rice and broccoli and cranberries\",Same as above but with a more concrete lunch. Cut down on excessive snacking. ,1,6,4,5,7,1,\"Pancakes, Pasta, Grilled Cheese and Soup\",4,Account Clerical ,1,1,2,3,2,3,1,2,4,940,500,nan,4,2,900,135',\n",
              " '3.3,2,1,610,4,420,2,\"Pizza, chocolate, and ice cream \",\"Boredom, sadness and anger \",2,1,2,1,My diet is mostly chicken rice and veggies. I mix in fruit between workouts and snacks like power bars and what not. ,3,1,I eat very bad on the weekends. ,1,3,5,nan,4,1,3,UPS driver ,Mexican ,2,1,\"Grilled chicken, pasta, and turkey \",1,5,2,5,1,Low carbs and high protein ,One that maintains my goal weight. But also produces enough daily energy. ,3,5,3,5,5,1,Chicken Parm,2,Unemployed ,5,1,1,3,3,2,2,1,3,1165,500,Lacrosse ,5,2,900,200',\n",
              " '3.5,1,1,610,3,420,2,\"Chocolate, ice cream, pasta\",\"Stress, boredom, sadness\",1,1,1,2,\"For breakfast I have oatmeal. For lunch I have a sandwich and fruit. For dinner I usually have a piece of meat, rice or pasta, and a vegetable. \",3,2,More easy meals like pasta.,1,11,2,2,5,2,4,Physical Therapist,Mexican,2,1,Steak,2,5,3,5,4,\"Fruit, vegetables, and protien\",Ideally my diet would be similar to what I eat now. If I wasn\\'t on a college budget I could spend more money on nicer meat and vegetables which would make my meals a lot better.,6,5,5,5,1,1,\"steak, noodles, edemame\",5,Elementary School Principal,2,2,1,4,4,3,1,1,5,1165,690,Skiing,5,1,1315,155',\n",
              " '3.7,1,1,610,nan,420,2,Mac n Cheese. Chips and salsa. Ice cream. ,Boredom. Celebration. ,2,2,2,1,Simple breakfast of cereal or yogurt. Lunch is something like a deli meat sandwich. Dinner is a full meal. Veggies meat and starch. ,3,2,More snacking ,1,11,2,3,5,nan,4,Insurance ,Italian ,1,3,Mac and cheese ,1,5,4,5,7,Proper serving sizes of almost anything ,Less cheese than I eat. ,1,6,5,5,10,1,Steak and veggies. Chicken and rice. Stirfry. ,4,Real Estate Agent ,2,2,2,3,4,3,2,1,5,1165,500,skiing ,4,2,1315,155',\n",
              " '3.5,1,1,610,3,420,1,\"cookies, nutella, ice cream, coffee, fruit \",\"Bordem, happiness, sadness\",2,1,2,1,\"I eat fruit and vetagables with every meal. I only drink water, no soda. I tend to stay away from greasy food. \",1,1,\"I ate more junk food, but also more fruit. \",1,3,3,2,4,1,2,Owner of New York Lunch,Chinese cuisine (General Tso\\'s),4,3,\"chicken stir fry, spaghetti, chicken parmesan \",1,5,2,4,3,Meal prep\\'d foods with food from each section on the food pyramid. ,\"I want to eliminate all the junk food I ate. Besides that, I want to keep my diet the same. \",5,2,3,5,1,2,1. pasta 2. spaghetti 3. chicken and rice ,2,CNA ,4,1,1,2,3,4,2,1,3,940,500,Volleyball,5,1,760,140',\n",
              " '3.79 bitch,2,1,720,4,420,2,\"Chips, ice cream\",\"Boredom, stress\",2,1,2,1,I have a diet of meats and other high protein foods. ,2,2,I stopped drinking soda and only drink water now,2,12,4,3,3,1,4,Risk Manager,Mexican,2,1,Pizza,1,3,2,3,1,\"Protein source, vegetables, fruits, whole grains\",A balanced diet with each food group. Getting enough protein and carbohydrates.,3,6,1,5,2,2,\"chipotle, chick fil a, chicken and rice\",2,Customer Service,5,3,1,3,1,3,1,1,2,1165,850,baseball,4,1,1315,200',\n",
              " '2.71,2,2,265,2,420,1,nan,nan,9,2,9,4,nan,4,2,nan,3,4,1,3,3,2,1,retire,nan,0,2,nan,1,4,3,3,8,nan,nan,8,3,3,3,10,4,\"rice and Chicken, sea food\",1,nan,2,2,3,5,3,3,1,2,3,580,345,nan,4,2,760,nan',\n",
              " '3,1,1,720,3,420,2,\"chocolate, fruit, and ice cream\",\"stress, boredom\",1,2,1,1,\"At school its hard but usually a granola bar and fruit for breakfast, a wrap for dinner or lunch, and then veggies and hummus.\",3,1,not going to Egan every meal maybe once a day,1,2,2,2,3,1,2,self employed,Japanese,4,1,\"tacos, pizza, chicken wing dip\",2,5,2,4,8,\"good portions of fruit, protein, veggies and carbs\",To eat moderations of every food group each day and no processed food,3,5,3,4,8,2,\"mexican chicken, hibachi chicken and rice, steak\",2,self employed,4,1,1,3,2,3,1,1,3,580,345,competitive skiing,4,1,1315,135',\n",
              " '3,1,1,610,3,420,2,\"Chinese food, moes, sponge candy, homemade lasagne \",\"boredom, sadness \",2,2,2,1,Eat fruits and vegetables daily and with almost every meal. Diet mostly consists of meat as well. ,1,2,Less snacking ,2,5,1,3,4,2,2,Service Technition,Chinese food,4,3,\"peanut butter and jelly, celery and peanut butter, hot pockets \",1,5,1,4,3,Small portion of meat with majority fruits or vegetables ,More organic food. Want to try and add more seafood into my diet.  ,5,6,4,5,1,1,\"Pizza, Chicken and rice and pasta\",4,Sales Manager at Business First,5,1,1,3,3,4,1,1,4,580,500,\"volleyball, lacrosse\",4,1,900,190',\n",
              " '3.75,2,1,610,3,420,2,\"candy, Chinese, mcdonalds\",laziness and hungover,5,2,5,nan,Complete diet. protein vegetables and carbs,1,2,I eat whatever is offered at egan or at the laker,1,3,2,nan,5,1,4,information systems architect,lebanese or greek,1,1,\"steak, spaghetti, salmon\",1,5,4,5,7,steak or salmon with broccoli or asparagus and brown rice or quinoa,High protein with lots of vegetables and fruit,7,6,5,5,6,2,\"salmon, steak, spaghetti squash\",4,teacher,4,1,1,3,5,3,1,1,5,940,690,\"hockey, soccer, golf\",5,1,1315,175',\n",
              " '3,1,1,720,3,420,2,\"ice cream, chips, candy\",\"Boredom, laziness, anger\",2,3,2,1,\"Since I am a college student I rarely cook full meals with protein, vegetables and starch. I usually just heat up leftovers from a restaurant or go eat casual food at the dining hall.\",2,2,I do not eat full meals. Rarely eat 3 meals a day. ,1,10,3,nan,4,2,4,Ford Plant employee,Italian,1,3,\"hot dogs, chicken fingers, mashed potatoes\",1,3,4,5,2,\"I think a healthy meals includes some kind of protein, preferably meat, vegetables, and a starch such as potatoes or rice\",\"My ideal diet right now would be how it was when I lived at home. I ate breakfast every morning, brought a lunch to school, and had a home cooked meal by my mom that included meat, vegetables and a starch. \",5,4,3,5,1,2,\"Chicken rice and asparagus, pizza, something easy in the crockpot\",3,Insurance Coordinator,2,2,1,5,4,3,2,1,3,1165,690,volleyball,2,2,1315,125',\n",
              " '3.2,2,1,610,3,420,2,\"chips, rice, chicken curry,\",\"Happiness, boredom, social event\",,2,7,5,\"My diet is mostly whatever I get to eat in the grotto commons. Sometimes, I eat outside\",2,1,Started eating a lot of protein rich food that i didnt before.,2,5,2,2,5,2,5,United Nations,Indian,8,3,\"pizza, burger, pasta\",1,5,4,5,7,A diet that is well balanced in most of the nutrients needed for the body.,Healthy balanced diet that tastes well.,3,2,5,5,6,2,\"Chicken, Rice, Vegetables\",5,Banker,2,1,1,3,5,4,1,1,5,1165,690,Soccer,5,2,1315,185',\n",
              " '3.882,1,1,720,nan,420,1,\"rice, potato, seaweed soup\",sadness,,3,3,nan,\"Rice, oatmeal, and tea\",2,1,less rice,1,3,3,3,5,2,5,CEO of company,Korean,4,1,Rice and potato,1,4,3,5,6,lots of vegetables,lots of veggies,2,2,5,3,10,1,\"meat, rice, kimchi\",1,Real Estate manageer,3,1,2,4,5,4,1,2,5,580,690,none,4,2,1315,120',\n",
              " '3.9,1,1,430,nan,315,2,\"Chocolates, pizza, and Ritz.\",\"hormones, Premenstrual syndrome.\",,nan,5,3,high in protein and low in carbohydrates.,1,1,I have learned to eat more vegetables. ,2,5,1,2,3,2,4,Journalist,HISPANIC CUISINE.,2,1,\"rice, beans, and chicken / pizza/ tenders\",1,3,3,2,3,\"a cup of rice, vegetables, and meat. \",\"Being able to balance between sweets, vegetables, fruits, carbohydrates, and fat.\",3,5,2,3,5,2,\"Vegetables, Meat, and rice.\",3,House-wife,5,1,3,3,2,3,1,2,2,725,345,nan,4,2,575,135']"
            ]
          },
          "metadata": {},
          "execution_count": 23
        }
      ]
    },
    {
      "cell_type": "code",
      "source": [
        "filtro_palavra.count()"
      ],
      "metadata": {
        "colab": {
          "base_uri": "https://localhost:8080/"
        },
        "id": "EU47oEqA3yCV",
        "outputId": "b43d933e-cda5-4c26-903e-546575229539"
      },
      "execution_count": null,
      "outputs": [
        {
          "output_type": "execute_result",
          "data": {
            "text/plain": [
              "28"
            ]
          },
          "metadata": {},
          "execution_count": 25
        }
      ]
    },
    {
      "cell_type": "code",
      "source": [
        "# persistindo os dados em memória para ficar mais rápido,s e ouver muitos dados isso acelerará a pesquisa\n",
        "food.cache()"
      ],
      "metadata": {
        "colab": {
          "base_uri": "https://localhost:8080/"
        },
        "id": "86HBcWKd3Cp-",
        "outputId": "d8b47762-406f-4a77-a5c0-d90294e8d056"
      },
      "execution_count": null,
      "outputs": [
        {
          "output_type": "execute_result",
          "data": {
            "text/plain": [
              "/content/drive/MyDrive/treinamento/Dados/food_coded.csv MapPartitionsRDD[5] at textFile at NativeMethodAccessorImpl.java:0"
            ]
          },
          "metadata": {},
          "execution_count": 24
        }
      ]
    },
    {
      "cell_type": "markdown",
      "source": [
        "## SCRIPT-2\n"
      ],
      "metadata": {
        "id": "_XJilVLApIrt"
      }
    },
    {
      "cell_type": "markdown",
      "source": [],
      "metadata": {
        "id": "xY1F35V-pxUS"
      }
    },
    {
      "cell_type": "code",
      "source": [
        "# carregando os 2 dados txt do google drive\n",
        "data = sc.textFile(\"/content/drive/MyDrive/treinamento/Dados/regiao-norte.txt,/content/drive/MyDrive/treinamento/Dados/regiao-sul.txt\")"
      ],
      "metadata": {
        "id": "0tTweaUr85q_"
      },
      "execution_count": null,
      "outputs": []
    },
    {
      "cell_type": "code",
      "source": [
        "#separar as palavras com o uso da função lambda e split\n",
        "palavras=data.flatMap(lambda x: x.split(\" \"))\n",
        "#dados transformados não mostram resultados"
      ],
      "metadata": {
        "id": "0IUzvdab9WuZ"
      },
      "execution_count": null,
      "outputs": []
    },
    {
      "cell_type": "code",
      "source": [
        "#Ação: Exibir os dados de \"palavras\"\n",
        "for plv in palavras.collect():\n",
        "  print(plv)"
      ],
      "metadata": {
        "colab": {
          "base_uri": "https://localhost:8080/"
        },
        "collapsed": true,
        "id": "PqGWoMve-Q3Y",
        "outputId": "7eb30ba3-b257-4c4e-9b49-1827474e355e"
      },
      "execution_count": null,
      "outputs": [
        {
          "output_type": "stream",
          "name": "stdout",
          "text": [
            "No\n",
            "Norte\n",
            "do\n",
            "país,\n",
            "região\n",
            "povoada\n",
            "recentemente,\n",
            "foram\n",
            "criados\n",
            "alguns\n",
            "órgãos\n",
            "governamentais\n",
            "responsáveis\n",
            "pelo\n",
            "seu\n",
            "estímulo\n",
            "econômico\n",
            "na\n",
            "década\n",
            "de\n",
            "1960.\n",
            "Dentre\n",
            "eles\n",
            "podemos\n",
            "destacar\n",
            "a\n",
            "Superintendência\n",
            "do\n",
            "Desenvolvimento\n",
            "da\n",
            "Amazônia\n",
            "(Sudam)\n",
            "e\n",
            "a\n",
            "Superintendência\n",
            "da\n",
            "Zona\n",
            "Franca\n",
            "de\n",
            "Manaus\n",
            "(Suframa).\n",
            "\n",
            "Esta\n",
            "última\n",
            "corresponde\n",
            "a\n",
            "um\n",
            "grande\n",
            "polo\n",
            "industrial,\n",
            "idealizado\n",
            "em\n",
            "1967\n",
            "e\n",
            "localizado\n",
            "em\n",
            "Manaus,\n",
            "que\n",
            "abriga\n",
            "grandes\n",
            "multinacionais,\n",
            "propiciando\n",
            "um\n",
            "enorme\n",
            "desenvolvimento\n",
            "industrial\n",
            "e\n",
            "geração\n",
            "de\n",
            "empregos\n",
            "para\n",
            "a\n",
            "região.\n",
            "\n",
            "Esse\n",
            "polo\n",
            "concentra\n",
            "três\n",
            "tipos\n",
            "de\n",
            "atividades:\n",
            "comercial,\n",
            "agropecuária\n",
            "e\n",
            "industrial\n",
            "(a\n",
            "mais\n",
            "forte\n",
            "de\n",
            "todas).\n",
            "De\n",
            "acordo\n",
            "com\n",
            "a\n",
            "Suframa,\n",
            "existem\n",
            "mais\n",
            "de\n",
            "600\n",
            "indústrias\n",
            "no\n",
            "polo\n",
            "e\n",
            "uma\n",
            "geração\n",
            "de\n",
            "mais\n",
            "de\n",
            "500\n",
            "mil\n",
            "empregos,\n",
            "diretos\n",
            "e\n",
            "indiretos.\n",
            "As\n",
            "áreas\n",
            "de\n",
            "produção\n",
            "industrial\n",
            "que\n",
            "se\n",
            "destacam\n",
            "são:\n",
            "eletroeletrônicos\n",
            "(celulares,\n",
            "TVs),\n",
            "duas\n",
            "rodas\n",
            "(motocicletas)\n",
            "e\n",
            "química\n",
            "(produção\n",
            "de\n",
            "matéria-prima\n",
            "para\n",
            "refrigerante).\n",
            "No\n",
            "Sul\n",
            "do\n",
            "país,\n",
            "há\n",
            "destaques\n",
            "em\n",
            "vários\n",
            "setores\n",
            "econômicos\n",
            "brasileiros.\n",
            "Por\n",
            "ser\n",
            "uma\n",
            "região\n",
            "bem\n",
            "desenvolvida\n",
            "no\n",
            "aspecto\n",
            "tecnológico\n",
            "e\n",
            "industrial,\n",
            "são\n",
            "muito\n",
            "comuns\n",
            "áreas\n",
            "em\n",
            "que\n",
            "esses\n",
            "dois\n",
            "aspectos\n",
            "unem-se,\n",
            "como\n",
            "na\n",
            "criação\n",
            "de\n",
            "animais\n",
            "em\n",
            "larga\n",
            "escala.\n",
            "\n",
            "A\n",
            "região\n",
            "Sul\n",
            "é\n",
            "líder\n",
            "na\n",
            "criação\n",
            "de\n",
            "suínos\n",
            "e\n",
            "aves\n",
            "no\n",
            "Brasil,\n",
            "tendo\n",
            "os\n",
            "maiores\n",
            "rebanhos\n",
            "nas\n",
            "duas\n",
            "categorias,\n",
            "de\n",
            "acordo\n",
            "com\n",
            "o\n",
            "Sistema\n",
            "IBGE\n",
            "de\n",
            "Recuperação\n",
            "Automática\n",
            "(Sidra).\n",
            "\n",
            "As\n",
            "condições\n",
            "climáticas\n",
            "da\n",
            "região\n",
            "assim\n",
            "como\n",
            "o\n",
            "solo\n",
            "fértil\n",
            "favorecem\n",
            "a\n",
            "agricultura,\n",
            "com\n",
            "destaque\n",
            "para\n",
            "a\n",
            "produção\n",
            "de\n",
            "milho\n",
            "no\n",
            "Paraná,\n",
            "de\n",
            "maçãs\n",
            "no\n",
            "Rio\n",
            "Grande\n",
            "do\n",
            "Sul\n",
            "e\n",
            "em\n",
            "Santa\n",
            "Catarina,\n",
            "além\n",
            "do\n",
            "cultivo\n",
            "da\n",
            "uva,\n",
            "que\n",
            "é\n",
            "marcante\n",
            "no\n",
            "nordeste\n",
            "rio-grandense.\n",
            "\n",
            "Já\n",
            "as\n",
            "atividades\n",
            "industriais\n",
            "estão\n",
            "relacionadas\n",
            "à\n",
            "produção\n",
            "de\n",
            "matéria-prima,\n",
            "como\n",
            "têxteis,\n",
            "lacticínios,\n",
            "frigoríficos,\n",
            "grãos\n",
            "etc.\n",
            "O\n",
            "estado\n",
            "mais\n",
            "industrializado\n",
            "é\n",
            "o\n",
            "Rio\n",
            "Grande\n",
            "do\n",
            "Sul,\n",
            "com\n",
            "grandes\n",
            "complexos\n",
            "industriais\n",
            "na\n",
            "região\n",
            "metropolitana\n",
            "de\n",
            "Porto\n",
            "Alegre.\n"
          ]
        }
      ]
    },
    {
      "cell_type": "code",
      "source": [
        "#Função que transformará todas as palavras em minúsculo\n",
        "def lower(line):\n",
        "  return line.lower()\n",
        "allPalavras = palavras.map(lambda x: lower(x))"
      ],
      "metadata": {
        "id": "L2stf1sk-ZxD"
      },
      "execution_count": null,
      "outputs": []
    },
    {
      "cell_type": "code",
      "source": [
        "allPalavras.collect()"
      ],
      "metadata": {
        "colab": {
          "base_uri": "https://localhost:8080/"
        },
        "id": "nhnC8Ia2_cXY",
        "outputId": "b9313723-2f0b-4d33-ea15-4bf9942500ef"
      },
      "execution_count": null,
      "outputs": [
        {
          "output_type": "execute_result",
          "data": {
            "text/plain": [
              "['no',\n",
              " 'norte',\n",
              " 'do',\n",
              " 'país,',\n",
              " 'região',\n",
              " 'povoada',\n",
              " 'recentemente,',\n",
              " 'foram',\n",
              " 'criados',\n",
              " 'alguns',\n",
              " 'órgãos',\n",
              " 'governamentais',\n",
              " 'responsáveis',\n",
              " 'pelo',\n",
              " 'seu',\n",
              " 'estímulo',\n",
              " 'econômico',\n",
              " 'na',\n",
              " 'década',\n",
              " 'de',\n",
              " '1960.',\n",
              " 'dentre',\n",
              " 'eles',\n",
              " 'podemos',\n",
              " 'destacar',\n",
              " 'a',\n",
              " 'superintendência',\n",
              " 'do',\n",
              " 'desenvolvimento',\n",
              " 'da',\n",
              " 'amazônia',\n",
              " '(sudam)',\n",
              " 'e',\n",
              " 'a',\n",
              " 'superintendência',\n",
              " 'da',\n",
              " 'zona',\n",
              " 'franca',\n",
              " 'de',\n",
              " 'manaus',\n",
              " '(suframa).',\n",
              " '',\n",
              " 'esta',\n",
              " 'última',\n",
              " 'corresponde',\n",
              " 'a',\n",
              " 'um',\n",
              " 'grande',\n",
              " 'polo',\n",
              " 'industrial,',\n",
              " 'idealizado',\n",
              " 'em',\n",
              " '1967',\n",
              " 'e',\n",
              " 'localizado',\n",
              " 'em',\n",
              " 'manaus,',\n",
              " 'que',\n",
              " 'abriga',\n",
              " 'grandes',\n",
              " 'multinacionais,',\n",
              " 'propiciando',\n",
              " 'um',\n",
              " 'enorme',\n",
              " 'desenvolvimento',\n",
              " 'industrial',\n",
              " 'e',\n",
              " 'geração',\n",
              " 'de',\n",
              " 'empregos',\n",
              " 'para',\n",
              " 'a',\n",
              " 'região.',\n",
              " '',\n",
              " 'esse',\n",
              " 'polo',\n",
              " 'concentra',\n",
              " 'três',\n",
              " 'tipos',\n",
              " 'de',\n",
              " 'atividades:',\n",
              " 'comercial,',\n",
              " 'agropecuária',\n",
              " 'e',\n",
              " 'industrial',\n",
              " '(a',\n",
              " 'mais',\n",
              " 'forte',\n",
              " 'de',\n",
              " 'todas).',\n",
              " 'de',\n",
              " 'acordo',\n",
              " 'com',\n",
              " 'a',\n",
              " 'suframa,',\n",
              " 'existem',\n",
              " 'mais',\n",
              " 'de',\n",
              " '600',\n",
              " 'indústrias',\n",
              " 'no',\n",
              " 'polo',\n",
              " 'e',\n",
              " 'uma',\n",
              " 'geração',\n",
              " 'de',\n",
              " 'mais',\n",
              " 'de',\n",
              " '500',\n",
              " 'mil',\n",
              " 'empregos,',\n",
              " 'diretos',\n",
              " 'e',\n",
              " 'indiretos.',\n",
              " 'as',\n",
              " 'áreas',\n",
              " 'de',\n",
              " 'produção',\n",
              " 'industrial',\n",
              " 'que',\n",
              " 'se',\n",
              " 'destacam',\n",
              " 'são:',\n",
              " 'eletroeletrônicos',\n",
              " '(celulares,',\n",
              " 'tvs),',\n",
              " 'duas',\n",
              " 'rodas',\n",
              " '(motocicletas)',\n",
              " 'e',\n",
              " 'química',\n",
              " '(produção',\n",
              " 'de',\n",
              " 'matéria-prima',\n",
              " 'para',\n",
              " 'refrigerante).',\n",
              " 'no',\n",
              " 'sul',\n",
              " 'do',\n",
              " 'país,',\n",
              " 'há',\n",
              " 'destaques',\n",
              " 'em',\n",
              " 'vários',\n",
              " 'setores',\n",
              " 'econômicos',\n",
              " 'brasileiros.',\n",
              " 'por',\n",
              " 'ser',\n",
              " 'uma',\n",
              " 'região',\n",
              " 'bem',\n",
              " 'desenvolvida',\n",
              " 'no',\n",
              " 'aspecto',\n",
              " 'tecnológico',\n",
              " 'e',\n",
              " 'industrial,',\n",
              " 'são',\n",
              " 'muito',\n",
              " 'comuns',\n",
              " 'áreas',\n",
              " 'em',\n",
              " 'que',\n",
              " 'esses',\n",
              " 'dois',\n",
              " 'aspectos',\n",
              " 'unem-se,',\n",
              " 'como',\n",
              " 'na',\n",
              " 'criação',\n",
              " 'de',\n",
              " 'animais',\n",
              " 'em',\n",
              " 'larga',\n",
              " 'escala.',\n",
              " '',\n",
              " 'a',\n",
              " 'região',\n",
              " 'sul',\n",
              " 'é',\n",
              " 'líder',\n",
              " 'na',\n",
              " 'criação',\n",
              " 'de',\n",
              " 'suínos',\n",
              " 'e',\n",
              " 'aves',\n",
              " 'no',\n",
              " 'brasil,',\n",
              " 'tendo',\n",
              " 'os',\n",
              " 'maiores',\n",
              " 'rebanhos',\n",
              " 'nas',\n",
              " 'duas',\n",
              " 'categorias,',\n",
              " 'de',\n",
              " 'acordo',\n",
              " 'com',\n",
              " 'o',\n",
              " 'sistema',\n",
              " 'ibge',\n",
              " 'de',\n",
              " 'recuperação',\n",
              " 'automática',\n",
              " '(sidra).',\n",
              " '',\n",
              " 'as',\n",
              " 'condições',\n",
              " 'climáticas',\n",
              " 'da',\n",
              " 'região',\n",
              " 'assim',\n",
              " 'como',\n",
              " 'o',\n",
              " 'solo',\n",
              " 'fértil',\n",
              " 'favorecem',\n",
              " 'a',\n",
              " 'agricultura,',\n",
              " 'com',\n",
              " 'destaque',\n",
              " 'para',\n",
              " 'a',\n",
              " 'produção',\n",
              " 'de',\n",
              " 'milho',\n",
              " 'no',\n",
              " 'paraná,',\n",
              " 'de',\n",
              " 'maçãs',\n",
              " 'no',\n",
              " 'rio',\n",
              " 'grande',\n",
              " 'do',\n",
              " 'sul',\n",
              " 'e',\n",
              " 'em',\n",
              " 'santa',\n",
              " 'catarina,',\n",
              " 'além',\n",
              " 'do',\n",
              " 'cultivo',\n",
              " 'da',\n",
              " 'uva,',\n",
              " 'que',\n",
              " 'é',\n",
              " 'marcante',\n",
              " 'no',\n",
              " 'nordeste',\n",
              " 'rio-grandense.',\n",
              " '',\n",
              " 'já',\n",
              " 'as',\n",
              " 'atividades',\n",
              " 'industriais',\n",
              " 'estão',\n",
              " 'relacionadas',\n",
              " 'à',\n",
              " 'produção',\n",
              " 'de',\n",
              " 'matéria-prima,',\n",
              " 'como',\n",
              " 'têxteis,',\n",
              " 'lacticínios,',\n",
              " 'frigoríficos,',\n",
              " 'grãos',\n",
              " 'etc.',\n",
              " 'o',\n",
              " 'estado',\n",
              " 'mais',\n",
              " 'industrializado',\n",
              " 'é',\n",
              " 'o',\n",
              " 'rio',\n",
              " 'grande',\n",
              " 'do',\n",
              " 'sul,',\n",
              " 'com',\n",
              " 'grandes',\n",
              " 'complexos',\n",
              " 'industriais',\n",
              " 'na',\n",
              " 'região',\n",
              " 'metropolitana',\n",
              " 'de',\n",
              " 'porto',\n",
              " 'alegre.']"
            ]
          },
          "metadata": {},
          "execution_count": 40
        }
      ]
    },
    {
      "cell_type": "code",
      "source": [
        "allPalavras.count()"
      ],
      "metadata": {
        "colab": {
          "base_uri": "https://localhost:8080/"
        },
        "id": "hleAceUb_g2G",
        "outputId": "ccdea79c-818d-4db0-cfa2-112cbcb909a4"
      },
      "execution_count": null,
      "outputs": [
        {
          "output_type": "execute_result",
          "data": {
            "text/plain": [
              "289"
            ]
          },
          "metadata": {},
          "execution_count": 41
        }
      ]
    },
    {
      "cell_type": "markdown",
      "source": [
        "Criar uma lista de stop words que será filtrada."
      ],
      "metadata": {
        "id": "BF-fwk7p_uHX"
      }
    },
    {
      "cell_type": "code",
      "source": [
        "# Cria a lista de stop words que será filtrada\n",
        "stop_words = ['e','do','das','na','há','ser','são','para','por', 'as','em','no','nas','uma','que','como','com','','os','o','a','da','de','nas','é']\n",
        "filtro_palavras = allPalavras.filter(lambda x: x not in stop_words)"
      ],
      "metadata": {
        "id": "zv9N8Dmk_pKR"
      },
      "execution_count": null,
      "outputs": []
    },
    {
      "cell_type": "code",
      "source": [
        "filtro_palavras.collect()"
      ],
      "metadata": {
        "collapsed": true,
        "colab": {
          "base_uri": "https://localhost:8080/"
        },
        "id": "aiBubVK4Ab9E",
        "outputId": "677208d8-78eb-4205-a0d1-c71095b8d440"
      },
      "execution_count": null,
      "outputs": [
        {
          "output_type": "execute_result",
          "data": {
            "text/plain": [
              "['norte',\n",
              " 'país,',\n",
              " 'região',\n",
              " 'povoada',\n",
              " 'recentemente,',\n",
              " 'foram',\n",
              " 'criados',\n",
              " 'alguns',\n",
              " 'órgãos',\n",
              " 'governamentais',\n",
              " 'responsáveis',\n",
              " 'pelo',\n",
              " 'seu',\n",
              " 'estímulo',\n",
              " 'econômico',\n",
              " 'década',\n",
              " '1960.',\n",
              " 'dentre',\n",
              " 'eles',\n",
              " 'podemos',\n",
              " 'destacar',\n",
              " 'superintendência',\n",
              " 'desenvolvimento',\n",
              " 'amazônia',\n",
              " '(sudam)',\n",
              " 'superintendência',\n",
              " 'zona',\n",
              " 'franca',\n",
              " 'manaus',\n",
              " '(suframa).',\n",
              " 'esta',\n",
              " 'última',\n",
              " 'corresponde',\n",
              " 'um',\n",
              " 'grande',\n",
              " 'polo',\n",
              " 'industrial,',\n",
              " 'idealizado',\n",
              " '1967',\n",
              " 'localizado',\n",
              " 'manaus,',\n",
              " 'abriga',\n",
              " 'grandes',\n",
              " 'multinacionais,',\n",
              " 'propiciando',\n",
              " 'um',\n",
              " 'enorme',\n",
              " 'desenvolvimento',\n",
              " 'industrial',\n",
              " 'geração',\n",
              " 'empregos',\n",
              " 'região.',\n",
              " 'esse',\n",
              " 'polo',\n",
              " 'concentra',\n",
              " 'três',\n",
              " 'tipos',\n",
              " 'atividades:',\n",
              " 'comercial,',\n",
              " 'agropecuária',\n",
              " 'industrial',\n",
              " '(a',\n",
              " 'mais',\n",
              " 'forte',\n",
              " 'todas).',\n",
              " 'acordo',\n",
              " 'suframa,',\n",
              " 'existem',\n",
              " 'mais',\n",
              " '600',\n",
              " 'indústrias',\n",
              " 'polo',\n",
              " 'geração',\n",
              " 'mais',\n",
              " '500',\n",
              " 'mil',\n",
              " 'empregos,',\n",
              " 'diretos',\n",
              " 'indiretos.',\n",
              " 'áreas',\n",
              " 'produção',\n",
              " 'industrial',\n",
              " 'se',\n",
              " 'destacam',\n",
              " 'são:',\n",
              " 'eletroeletrônicos',\n",
              " '(celulares,',\n",
              " 'tvs),',\n",
              " 'duas',\n",
              " 'rodas',\n",
              " '(motocicletas)',\n",
              " 'química',\n",
              " '(produção',\n",
              " 'matéria-prima',\n",
              " 'refrigerante).',\n",
              " 'sul',\n",
              " 'país,',\n",
              " 'destaques',\n",
              " 'vários',\n",
              " 'setores',\n",
              " 'econômicos',\n",
              " 'brasileiros.',\n",
              " 'região',\n",
              " 'bem',\n",
              " 'desenvolvida',\n",
              " 'aspecto',\n",
              " 'tecnológico',\n",
              " 'industrial,',\n",
              " 'muito',\n",
              " 'comuns',\n",
              " 'áreas',\n",
              " 'esses',\n",
              " 'dois',\n",
              " 'aspectos',\n",
              " 'unem-se,',\n",
              " 'criação',\n",
              " 'animais',\n",
              " 'larga',\n",
              " 'escala.',\n",
              " 'região',\n",
              " 'sul',\n",
              " 'líder',\n",
              " 'criação',\n",
              " 'suínos',\n",
              " 'aves',\n",
              " 'brasil,',\n",
              " 'tendo',\n",
              " 'maiores',\n",
              " 'rebanhos',\n",
              " 'duas',\n",
              " 'categorias,',\n",
              " 'acordo',\n",
              " 'sistema',\n",
              " 'ibge',\n",
              " 'recuperação',\n",
              " 'automática',\n",
              " '(sidra).',\n",
              " 'condições',\n",
              " 'climáticas',\n",
              " 'região',\n",
              " 'assim',\n",
              " 'solo',\n",
              " 'fértil',\n",
              " 'favorecem',\n",
              " 'agricultura,',\n",
              " 'destaque',\n",
              " 'produção',\n",
              " 'milho',\n",
              " 'paraná,',\n",
              " 'maçãs',\n",
              " 'rio',\n",
              " 'grande',\n",
              " 'sul',\n",
              " 'santa',\n",
              " 'catarina,',\n",
              " 'além',\n",
              " 'cultivo',\n",
              " 'uva,',\n",
              " 'marcante',\n",
              " 'nordeste',\n",
              " 'rio-grandense.',\n",
              " 'já',\n",
              " 'atividades',\n",
              " 'industriais',\n",
              " 'estão',\n",
              " 'relacionadas',\n",
              " 'à',\n",
              " 'produção',\n",
              " 'matéria-prima,',\n",
              " 'têxteis,',\n",
              " 'lacticínios,',\n",
              " 'frigoríficos,',\n",
              " 'grãos',\n",
              " 'etc.',\n",
              " 'estado',\n",
              " 'mais',\n",
              " 'industrializado',\n",
              " 'rio',\n",
              " 'grande',\n",
              " 'sul,',\n",
              " 'grandes',\n",
              " 'complexos',\n",
              " 'industriais',\n",
              " 'região',\n",
              " 'metropolitana',\n",
              " 'porto',\n",
              " 'alegre.']"
            ]
          },
          "metadata": {},
          "execution_count": 44
        }
      ]
    },
    {
      "cell_type": "code",
      "source": [
        "filtro_palavras.count()"
      ],
      "metadata": {
        "colab": {
          "base_uri": "https://localhost:8080/"
        },
        "id": "8kkvMpqMAf18",
        "outputId": "b71b12df-e12a-4344-b911-1803c8b15343"
      },
      "execution_count": null,
      "outputs": [
        {
          "output_type": "execute_result",
          "data": {
            "text/plain": [
              "187"
            ]
          },
          "metadata": {},
          "execution_count": 45
        }
      ]
    },
    {
      "cell_type": "code",
      "source": [
        "#Praparando o contador para somar a quantidade de palavras, colocando o número 1 ao lado das palavras\n",
        "freqpal = filtro_palavras.map(lambda x: [x,1])\n",
        "#Frequencia de palavras\n",
        "freqpal.collect()"
      ],
      "metadata": {
        "colab": {
          "base_uri": "https://localhost:8080/"
        },
        "collapsed": true,
        "id": "DSDarMgTAlwt",
        "outputId": "24a55e5d-8dff-4c16-de75-8ad2638f052b"
      },
      "execution_count": null,
      "outputs": [
        {
          "output_type": "execute_result",
          "data": {
            "text/plain": [
              "[['norte', 1],\n",
              " ['país,', 1],\n",
              " ['região', 1],\n",
              " ['povoada', 1],\n",
              " ['recentemente,', 1],\n",
              " ['foram', 1],\n",
              " ['criados', 1],\n",
              " ['alguns', 1],\n",
              " ['órgãos', 1],\n",
              " ['governamentais', 1],\n",
              " ['responsáveis', 1],\n",
              " ['pelo', 1],\n",
              " ['seu', 1],\n",
              " ['estímulo', 1],\n",
              " ['econômico', 1],\n",
              " ['década', 1],\n",
              " ['1960.', 1],\n",
              " ['dentre', 1],\n",
              " ['eles', 1],\n",
              " ['podemos', 1],\n",
              " ['destacar', 1],\n",
              " ['superintendência', 1],\n",
              " ['desenvolvimento', 1],\n",
              " ['amazônia', 1],\n",
              " ['(sudam)', 1],\n",
              " ['superintendência', 1],\n",
              " ['zona', 1],\n",
              " ['franca', 1],\n",
              " ['manaus', 1],\n",
              " ['(suframa).', 1],\n",
              " ['esta', 1],\n",
              " ['última', 1],\n",
              " ['corresponde', 1],\n",
              " ['um', 1],\n",
              " ['grande', 1],\n",
              " ['polo', 1],\n",
              " ['industrial,', 1],\n",
              " ['idealizado', 1],\n",
              " ['1967', 1],\n",
              " ['localizado', 1],\n",
              " ['manaus,', 1],\n",
              " ['abriga', 1],\n",
              " ['grandes', 1],\n",
              " ['multinacionais,', 1],\n",
              " ['propiciando', 1],\n",
              " ['um', 1],\n",
              " ['enorme', 1],\n",
              " ['desenvolvimento', 1],\n",
              " ['industrial', 1],\n",
              " ['geração', 1],\n",
              " ['empregos', 1],\n",
              " ['região.', 1],\n",
              " ['esse', 1],\n",
              " ['polo', 1],\n",
              " ['concentra', 1],\n",
              " ['três', 1],\n",
              " ['tipos', 1],\n",
              " ['atividades:', 1],\n",
              " ['comercial,', 1],\n",
              " ['agropecuária', 1],\n",
              " ['industrial', 1],\n",
              " ['(a', 1],\n",
              " ['mais', 1],\n",
              " ['forte', 1],\n",
              " ['todas).', 1],\n",
              " ['acordo', 1],\n",
              " ['suframa,', 1],\n",
              " ['existem', 1],\n",
              " ['mais', 1],\n",
              " ['600', 1],\n",
              " ['indústrias', 1],\n",
              " ['polo', 1],\n",
              " ['geração', 1],\n",
              " ['mais', 1],\n",
              " ['500', 1],\n",
              " ['mil', 1],\n",
              " ['empregos,', 1],\n",
              " ['diretos', 1],\n",
              " ['indiretos.', 1],\n",
              " ['áreas', 1],\n",
              " ['produção', 1],\n",
              " ['industrial', 1],\n",
              " ['se', 1],\n",
              " ['destacam', 1],\n",
              " ['são:', 1],\n",
              " ['eletroeletrônicos', 1],\n",
              " ['(celulares,', 1],\n",
              " ['tvs),', 1],\n",
              " ['duas', 1],\n",
              " ['rodas', 1],\n",
              " ['(motocicletas)', 1],\n",
              " ['química', 1],\n",
              " ['(produção', 1],\n",
              " ['matéria-prima', 1],\n",
              " ['refrigerante).', 1],\n",
              " ['sul', 1],\n",
              " ['país,', 1],\n",
              " ['destaques', 1],\n",
              " ['vários', 1],\n",
              " ['setores', 1],\n",
              " ['econômicos', 1],\n",
              " ['brasileiros.', 1],\n",
              " ['região', 1],\n",
              " ['bem', 1],\n",
              " ['desenvolvida', 1],\n",
              " ['aspecto', 1],\n",
              " ['tecnológico', 1],\n",
              " ['industrial,', 1],\n",
              " ['muito', 1],\n",
              " ['comuns', 1],\n",
              " ['áreas', 1],\n",
              " ['esses', 1],\n",
              " ['dois', 1],\n",
              " ['aspectos', 1],\n",
              " ['unem-se,', 1],\n",
              " ['criação', 1],\n",
              " ['animais', 1],\n",
              " ['larga', 1],\n",
              " ['escala.', 1],\n",
              " ['região', 1],\n",
              " ['sul', 1],\n",
              " ['líder', 1],\n",
              " ['criação', 1],\n",
              " ['suínos', 1],\n",
              " ['aves', 1],\n",
              " ['brasil,', 1],\n",
              " ['tendo', 1],\n",
              " ['maiores', 1],\n",
              " ['rebanhos', 1],\n",
              " ['duas', 1],\n",
              " ['categorias,', 1],\n",
              " ['acordo', 1],\n",
              " ['sistema', 1],\n",
              " ['ibge', 1],\n",
              " ['recuperação', 1],\n",
              " ['automática', 1],\n",
              " ['(sidra).', 1],\n",
              " ['condições', 1],\n",
              " ['climáticas', 1],\n",
              " ['região', 1],\n",
              " ['assim', 1],\n",
              " ['solo', 1],\n",
              " ['fértil', 1],\n",
              " ['favorecem', 1],\n",
              " ['agricultura,', 1],\n",
              " ['destaque', 1],\n",
              " ['produção', 1],\n",
              " ['milho', 1],\n",
              " ['paraná,', 1],\n",
              " ['maçãs', 1],\n",
              " ['rio', 1],\n",
              " ['grande', 1],\n",
              " ['sul', 1],\n",
              " ['santa', 1],\n",
              " ['catarina,', 1],\n",
              " ['além', 1],\n",
              " ['cultivo', 1],\n",
              " ['uva,', 1],\n",
              " ['marcante', 1],\n",
              " ['nordeste', 1],\n",
              " ['rio-grandense.', 1],\n",
              " ['já', 1],\n",
              " ['atividades', 1],\n",
              " ['industriais', 1],\n",
              " ['estão', 1],\n",
              " ['relacionadas', 1],\n",
              " ['à', 1],\n",
              " ['produção', 1],\n",
              " ['matéria-prima,', 1],\n",
              " ['têxteis,', 1],\n",
              " ['lacticínios,', 1],\n",
              " ['frigoríficos,', 1],\n",
              " ['grãos', 1],\n",
              " ['etc.', 1],\n",
              " ['estado', 1],\n",
              " ['mais', 1],\n",
              " ['industrializado', 1],\n",
              " ['rio', 1],\n",
              " ['grande', 1],\n",
              " ['sul,', 1],\n",
              " ['grandes', 1],\n",
              " ['complexos', 1],\n",
              " ['industriais', 1],\n",
              " ['região', 1],\n",
              " ['metropolitana', 1],\n",
              " ['porto', 1],\n",
              " ['alegre.', 1]]"
            ]
          },
          "metadata": {},
          "execution_count": 47
        }
      ]
    },
    {
      "cell_type": "code",
      "source": [
        "#comparar o contator sem ser o"
      ],
      "metadata": {
        "id": "DF1Vmp95A-7e"
      },
      "execution_count": null,
      "outputs": []
    }
  ]
}